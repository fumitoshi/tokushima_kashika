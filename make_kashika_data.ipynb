{
 "cells": [
  {
   "cell_type": "code",
   "execution_count": 1,
   "metadata": {},
   "outputs": [],
   "source": [
    "import pandas as pd"
   ]
  },
  {
   "cell_type": "markdown",
   "metadata": {},
   "source": [
    "# 徳島のデータ作成"
   ]
  },
  {
   "cell_type": "code",
   "execution_count": 2,
   "metadata": {},
   "outputs": [],
   "source": [
    "# # 西暦和暦変更\n",
    "\n",
    "# change_dict ={\n",
    "#     \"13\":\"2001\",\n",
    "#     \"14\":\"2002\",\n",
    "#     \"15\":\"2003\",\n",
    "#     \"16\":\"2004\",\n",
    "#     \"h17\":\"2005\",\n",
    "#     \"h18\":\"2006\",\n",
    "#     \"h19\":\"2007\",\n",
    "#     \"h20\":\"2008\",\n",
    "#     \"h21\":\"2009\",\n",
    "#     \"h22\":\"2010\",\n",
    "#     \"h23\":\"2011\",\n",
    "#     \"h24\":\"2012\",\n",
    "#     \"h25\":\"2013\",\n",
    "#     \"H25\":\"2013\",\n",
    "#     \"h26\":\"2014\",\n",
    "#     \"H26\":\"2014\",\n",
    "#     \"h27\":\"2015\",\n",
    "#     \"H27\":\"2015\",\n",
    "#     \"H28\":\"2016\",\n",
    "#     \"H29\":\"2017\",\n",
    "#     \"H30\":\"2018\",\n",
    "#     \"H31\":\"2019\",\n",
    "#     \"R1\":\"2020\",\n",
    "#     \"R2\":\"2021\"\n",
    "# }\n",
    "\n",
    "# import glob\n",
    "# for i in glob.glob('./toku_change/*'):\n",
    "#     for k,v in change_dict.items():\n",
    "#         if re.search(k,i):\n",
    "#             z = i.replace(re.search(k,i).group(),v)\n",
    "#             os.rename(i,z)\n",
    "#             print(z)"
   ]
  },
  {
   "cell_type": "code",
   "execution_count": 3,
   "metadata": {},
   "outputs": [],
   "source": [
    "def get_df(df):\n",
    "    import re\n",
    "    df = df[3:]\n",
    "    df.loc[3,\"Unnamed: 0\"] = \"pref\"\n",
    "    df.columns = [f\"{c}{idx}\" for idx,c in enumerate(df.iloc[0,0:])]\n",
    "    df = df[2:]\n",
    "    df = df[df.pref0.notnull()]\n",
    "    jp2eng = {\n",
    "        \"pref0\":\"pref\",\n",
    "        \"男2\":\"mn_cnt\",\n",
    "        \"女3\":\"wn_cnt\",\n",
    "        \"男6\":\"natural_birth_mn\",\n",
    "        \"女7\":\"natural_birth_wn\",\n",
    "        \"男9\":\"natural_death_mn\",\n",
    "        \"女10\":\"natural_death_wn\",\n",
    "        \"男13\":\"social_in_mn\",\n",
    "        \"女14\":\"social_in_wn\",\n",
    "        \"男16\":\"social_out_mn\",\n",
    "        \"女17\":\"social_out_wn\",\n",
    "        \"増加20\":\"increase_household\",\n",
    "        \"減少21\":\"decrease_household\",\n",
    "        \"の人員23\":\"number_per_house\"\n",
    "    }\n",
    "    eng2jp = {v:k for k,v in jp2eng.items()}\n",
    "\n",
    "    df = df.rename(columns=jp2eng)\n",
    "    eng_cols = [c for c in df.rename(columns=jp2eng).columns if re.search(r\"[a-z_]+\",c)]\n",
    "    eng_cols.remove('nan18')\n",
    "    eng_cols.remove('nan11')\n",
    "\n",
    "    df = df[eng_cols]\n",
    "    df = df[df.mn_cnt.notnull()]\n",
    "    return df"
   ]
  },
  {
   "cell_type": "code",
   "execution_count": null,
   "metadata": {},
   "outputs": [],
   "source": [
    "#実行\n",
    "import os\n",
    "\n",
    "file_dir =\"tokushima/\"\n",
    "output = []\n",
    "for file in os.listdir(file_dir):\n",
    "    print(\"file:\",file)\n",
    "    file_name = file_dir + file\n",
    "    df = pd.read_excel(file_name)\n",
    "    df = get_df(df)\n",
    "    year,month = file.split(\"-\")[:2]\n",
    "    month = month.zfill(2)\n",
    "    df[\"year\"] = year\n",
    "    df[\"month\"] = month\n",
    "    output.append(df)\n",
    "\n",
    "df1 = pd.concat(output)"
   ]
  },
  {
   "cell_type": "code",
   "execution_count": null,
   "metadata": {},
   "outputs": [],
   "source": []
  },
  {
   "cell_type": "markdown",
   "metadata": {},
   "source": [
    "# 全国のデータ作成"
   ]
  },
  {
   "cell_type": "code",
   "execution_count": 6,
   "metadata": {},
   "outputs": [],
   "source": [
    "# ~2015"
   ]
  },
  {
   "cell_type": "code",
   "execution_count": null,
   "metadata": {},
   "outputs": [],
   "source": [
    "pref = pd.read_excel(\"all_pref/05k5-6.xls\")"
   ]
  },
  {
   "cell_type": "code",
   "execution_count": null,
   "metadata": {},
   "outputs": [],
   "source": [
    "pre_df = pref.iloc[11:, 2:]\n",
    "pre_df = pre_df[pre_df[\"Unnamed: 2\"].notnull()]\n",
    "\n",
    "for c in pre_df.columns:\n",
    "    val = pre_df[c]\n",
    "    val_list = [v for v in val if isinstance(v, float)]\n",
    "    if val_list:\n",
    "        pre_df = pre_df.drop(c, axis=1)\n",
    "        \n",
    "pre_df.columns = [\"pref\", \"prefen\"] + [j for i in [[i, i] for i in range(2000, 2016)] for j in i]\n",
    "pre_df = pre_df.reset_index(drop=True)"
   ]
  },
  {
   "cell_type": "code",
   "execution_count": 7,
   "metadata": {},
   "outputs": [],
   "source": [
    "# 2015~"
   ]
  },
  {
   "cell_type": "code",
   "execution_count": null,
   "metadata": {},
   "outputs": [],
   "source": [
    "pref = pd.read_excel(\"all_pref/a00500.xls\")\n",
    "pre2_df = pref.iloc[9:, 5:]\n",
    "pre2_df.columns = [\"2016\",\"2016\",\"2017\",\"2017\",\"2018\",\"2018\",\"2019\",\"2019\"]\n",
    "pre2_df = pre2_df.reset_index(drop=True)"
   ]
  },
  {
   "cell_type": "code",
   "execution_count": null,
   "metadata": {},
   "outputs": [],
   "source": [
    "df2 = pd.concat([pre_df,pre2_df],axis=1)\n",
    "l = [\"pref\",\"prefen\",\"2000男\",\"2000女\",\"2001男\",\"2001女\",\"2002男\",\"2002女\",\"2003男\",\"2003女\",\"2004男\",\"2004女\",\"2005男\",\"2005女\",\"2006男\",\"2006女\",\"2007男\",\"2007女\",\"2008男\",\"2008女\",\"2009男\",\"2009女\",\"2010男\",\"2010女\",\"2011男\",\"2011女\",\"2012男\",\"2012女\",\"2013男\",\"2013女\",\"2014男\",\"2014女\",\"2015男\",\"2015女\",\"2016男\",\"2016女\",\"2017男\",\"2017女\",\"2018男\",\"2018女\",\"2019男\",\"2019女\"]\n",
    "df2.columns = l"
   ]
  },
  {
   "cell_type": "code",
   "execution_count": null,
   "metadata": {},
   "outputs": [],
   "source": []
  },
  {
   "cell_type": "markdown",
   "metadata": {},
   "source": [
    "# 市区町村合併の処理"
   ]
  },
  {
   "cell_type": "code",
   "execution_count": null,
   "metadata": {},
   "outputs": [],
   "source": [
    "pref_dict = {\n",
    "    '徳島市':'徳島市',\n",
    "    '鳴門市':'鳴門市',\n",
    "    '小松島市':'小松島市',\n",
    "    '上勝町':'上勝町',\n",
    "    '佐那河内村':'佐那河内村',\n",
    "    '石井町':'石井町',\n",
    "    '神山町':'神山町',\n",
    "    '牟岐町':'牟岐町',\n",
    "    '松茂町':'松茂町',\n",
    "    '北島町':'北島町',\n",
    "    '藍住町':'藍住町',\n",
    "    '吉野川市':'吉野川市',\n",
    "    \"鴨島町\":\"吉野川市\",\n",
    "    \"川島町\":\"吉野川市\",\n",
    "    \"山川町\":\"吉野川市\",\n",
    "    \"美郷村\":\"吉野川市\",\n",
    "    '美馬市':'美馬市',\n",
    "    \"木屋平村\":\"美馬市\",\n",
    "    \"穴吹町\":\"美馬市\",\n",
    "    \"美馬町\":\"美馬市\",\n",
    "    \"美馬郡\":\"美馬市\",\n",
    "    \"脇町\":\"美馬市\",\n",
    "    \"麻植郡\":\"美馬市\",\n",
    "    'つるぎ町':'つるぎ町',\n",
    "    \"一宇村\":\"つるぎ町\",\n",
    "    \"貞光町\":\"つるぎ町\",\n",
    "    \"半田町\":\"つるぎ町\",\n",
    "    '那賀町':'那賀町',\n",
    "    \"木頭村\":\"那賀町\",\n",
    "    \"木沢村\":\"那賀町\",\n",
    "    \"上那賀町\":\"那賀町\",\n",
    "    \"相生町\":\"那賀町\",\n",
    "    \"鷲敷町\":\"那賀町\",\n",
    "    \"那賀郡\":'那賀町',\n",
    "    '阿波市':'阿波市',\n",
    "    \"市場町\":\"阿波市\",\n",
    "    \"土成町\":\"阿波市\",\n",
    "    \"吉野町\":\"阿波市\",\n",
    "    \"阿波町\":\"阿波市\",\n",
    "    \"阿波郡\":\"阿波市\",\n",
    "    '三好市':'三好市',\n",
    "    \"三好郡\":\"三好市\",\n",
    "    \"西祖谷山村\":\"三好市\",\n",
    "    \"東祖谷山村\":\"三好市\",\n",
    "    \"井川町\":\"三好市\",\n",
    "    \"山城町\":\"三好市\",\n",
    "    \"池田町\":\"三好市\",\n",
    "    \"三野町\":\"三好市\",\n",
    "    '東みよし町':'東みよし町',\n",
    "    \"三加茂町\":\"東みよし町\",\n",
    "    \"三好町\":\"東みよし町\",\n",
    "    '阿南市':'阿南市',\n",
    "    \"羽ノ浦町\":\"阿南市\",\n",
    "    \"那賀川町\":\"阿南市\",\n",
    "    '美波町':'美波町',\n",
    "    \"由岐町\":\"美波町\",\n",
    "    \"日和佐町\":\"美波町\",\n",
    "    '海陽町':'海陽町',\n",
    "    \"宍喰町\":\"海陽町\",\n",
    "    \"海部町\":\"海陽町\",\n",
    "    \"海南町\":\"海陽町\",\n",
    "    \"海部郡\":\"海陽町\",\n",
    "    '板野町':'板野町',\n",
    "    \"板野郡\":'板野町',\n",
    "    '上板町':'上板町',\n",
    "    \"名西郡\":'上板町',\n",
    "    '勝浦町':'勝浦町',\n",
    "    \"勝浦郡\":'勝浦町'\n",
    "}\n",
    "\n",
    "data = pd.read_pickle(\"fix_first_data.pkl\")\n",
    "data = data.reset_index(drop=True)\n",
    "\n",
    "remove_gun = []\n",
    "for i,p in data.iterrows():\n",
    "    if \"郡\" in p.pref:\n",
    "        remove_gun.append(i)\n",
    "data = data.drop(remove_gun)\n",
    "            \n",
    "melt_df = data.melt(id_vars=[\"year\", \"month\", \"pref\"], var_name=\"types\")\n",
    "melt_df.pivot_table(index=[\"year\", \"month\", \"pref\"], columns=\"types\", values=\"value\", aggfunc=\"sum\").reset_index()"
   ]
  },
  {
   "cell_type": "code",
   "execution_count": null,
   "metadata": {},
   "outputs": [],
   "source": [
    "melt_df[\"pref_flg\"] = \"\"\n",
    "for idx,n in melt_df.iterrows():\n",
    "    for k in pref_dict:\n",
    "        if n.pref == k:\n",
    "            n.pref_flg = pref_dict.get(k)"
   ]
  },
  {
   "cell_type": "code",
   "execution_count": null,
   "metadata": {},
   "outputs": [],
   "source": [
    "melt_df.pivot_table(index=[\"year\", \"month\", \"pref\"], columns=\"types\", values=\"value\", aggfunc=\"sum\").reset_index()"
   ]
  },
  {
   "cell_type": "code",
   "execution_count": null,
   "metadata": {},
   "outputs": [],
   "source": []
  },
  {
   "cell_type": "code",
   "execution_count": null,
   "metadata": {},
   "outputs": [],
   "source": []
  },
  {
   "cell_type": "code",
   "execution_count": null,
   "metadata": {},
   "outputs": [],
   "source": []
  },
  {
   "cell_type": "code",
   "execution_count": null,
   "metadata": {},
   "outputs": [],
   "source": []
  },
  {
   "cell_type": "code",
   "execution_count": null,
   "metadata": {},
   "outputs": [],
   "source": []
  },
  {
   "cell_type": "code",
   "execution_count": null,
   "metadata": {},
   "outputs": [],
   "source": []
  },
  {
   "cell_type": "code",
   "execution_count": null,
   "metadata": {},
   "outputs": [],
   "source": []
  },
  {
   "cell_type": "code",
   "execution_count": null,
   "metadata": {},
   "outputs": [],
   "source": []
  },
  {
   "cell_type": "code",
   "execution_count": null,
   "metadata": {},
   "outputs": [],
   "source": []
  },
  {
   "cell_type": "code",
   "execution_count": null,
   "metadata": {},
   "outputs": [],
   "source": []
  },
  {
   "cell_type": "code",
   "execution_count": null,
   "metadata": {},
   "outputs": [],
   "source": []
  },
  {
   "cell_type": "code",
   "execution_count": null,
   "metadata": {},
   "outputs": [],
   "source": []
  }
 ],
 "metadata": {
  "kernelspec": {
   "display_name": "Environment (conda_test)",
   "language": "python",
   "name": "conda_test"
  },
  "language_info": {
   "codemirror_mode": {
    "name": "ipython",
    "version": 3
   },
   "file_extension": ".py",
   "mimetype": "text/x-python",
   "name": "python",
   "nbconvert_exporter": "python",
   "pygments_lexer": "ipython3",
   "version": "3.7.0"
  }
 },
 "nbformat": 4,
 "nbformat_minor": 4
}
